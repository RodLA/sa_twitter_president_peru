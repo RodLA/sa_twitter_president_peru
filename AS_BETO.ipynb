{
  "nbformat": 4,
  "nbformat_minor": 0,
  "metadata": {
    "colab": {
      "provenance": [],
      "include_colab_link": true
    },
    "kernelspec": {
      "name": "python3",
      "display_name": "Python 3"
    },
    "language_info": {
      "name": "python"
    }
  },
  "cells": [
    {
      "cell_type": "markdown",
      "metadata": {
        "id": "view-in-github",
        "colab_type": "text"
      },
      "source": [
        "<a href=\"https://colab.research.google.com/github/RodLA/sa_twitter_president_peru/blob/main/AS_BETO.ipynb\" target=\"_parent\"><img src=\"https://colab.research.google.com/assets/colab-badge.svg\" alt=\"Open In Colab\"/></a>"
      ]
    },
    {
      "cell_type": "markdown",
      "source": [
        "**BETO Model Link: **https://huggingface.co/finiteautomata/beto-sentiment-analysis\n",
        "\n",
        "**XLSX file link:** https://docs.google.com/spreadsheets/d/11ZB4z2kCbbPuxrDKRLmCzzN9D2Y_cyxb/edit?usp=sharing&ouid=101729909320423551225&rtpof=true&sd=true\n",
        "**download the excel and add it in files**"
      ],
      "metadata": {
        "id": "1p3NLrHnlWgP"
      }
    },
    {
      "cell_type": "markdown",
      "source": [
        "# **Import dependencies**"
      ],
      "metadata": {
        "id": "HKxgc1R3S44N"
      }
    },
    {
      "cell_type": "code",
      "execution_count": null,
      "metadata": {
        "id": "2fgtX4McW9Vj"
      },
      "outputs": [],
      "source": [
        "!pip install -q transformers"
      ]
    },
    {
      "cell_type": "code",
      "source": [
        "from transformers import pipeline\n",
        "import re\n",
        "import pandas as pd"
      ],
      "metadata": {
        "id": "8FIUbUhJ-cbb"
      },
      "execution_count": null,
      "outputs": []
    },
    {
      "cell_type": "markdown",
      "source": [
        "# **Data load**"
      ],
      "metadata": {
        "id": "t74BZ3dDtX9X"
      }
    },
    {
      "cell_type": "code",
      "source": [
        "df = pd.read_excel('tweetspresidenciaperu2023.xlsx')"
      ],
      "metadata": {
        "id": "grErGcRU-W7b"
      },
      "execution_count": null,
      "outputs": []
    },
    {
      "cell_type": "code",
      "source": [
        "data=df[['text']]"
      ],
      "metadata": {
        "id": "Jp52j-N_-zS9"
      },
      "execution_count": null,
      "outputs": []
    },
    {
      "cell_type": "markdown",
      "source": [
        "# **Data cleansing**\n",
        "\n"
      ],
      "metadata": {
        "id": "HNkK2k0dEd7_"
      }
    },
    {
      "cell_type": "code",
      "source": [
        "def cleaning_text(texto):\n",
        "\n",
        "    texto = re.sub(r'http\\S+', '', texto)\n",
        "    texto = re.sub(r'@\\w+', '', texto)\n",
        "    texto = re.sub(r'#\\w+', '', texto)\n",
        "    texto = re.sub(r'[^\\w\\s\\\\]', '', texto)\n",
        "    texto = re.sub(r'\\d+', '', texto)\n",
        "    texto = texto.lower()\n",
        "    return texto\n",
        "\n",
        "data['text'] = data['text'].apply(cleaning_text)"
      ],
      "metadata": {
        "id": "1TJ-M3rl-1TT"
      },
      "execution_count": null,
      "outputs": []
    },
    {
      "cell_type": "code",
      "source": [
        "data"
      ],
      "metadata": {
        "colab": {
          "base_uri": "https://localhost:8080/",
          "height": 423
        },
        "id": "e-pAOVjZFrw7",
        "outputId": "31cac0e5-fa55-4e12-be0d-e421be68213d"
      },
      "execution_count": null,
      "outputs": [
        {
          "output_type": "execute_result",
          "data": {
            "text/plain": [
              "                                                   text\n",
              "0     esto es algo que alguien del entorno de  debe ...\n",
              "1     sres generales\\naunque sigue siendo responsabl...\n",
              "2     dina boluarte aceptó su rol constitucional com...\n",
              "3           lo mismo tiene que hacer perú  estamos h...\n",
              "4                      dina azecin el pueblo te repudia\n",
              "...                                                 ...\n",
              "8269    todo lo hacen mal en vez de aclarar peor la ...\n",
              "8270   escriban bien \\ndejen de lado las ideologías ...\n",
              "8271                              es su responsabilidad\n",
              "8272      cual presidenta una asesina ilegal golpist...\n",
              "8273    pobre mujer se tiene que inventar su propia ...\n",
              "\n",
              "[8274 rows x 1 columns]"
            ],
            "text/html": [
              "\n",
              "  <div id=\"df-e3919f38-bbf2-432d-a723-880a80ad2887\">\n",
              "    <div class=\"colab-df-container\">\n",
              "      <div>\n",
              "<style scoped>\n",
              "    .dataframe tbody tr th:only-of-type {\n",
              "        vertical-align: middle;\n",
              "    }\n",
              "\n",
              "    .dataframe tbody tr th {\n",
              "        vertical-align: top;\n",
              "    }\n",
              "\n",
              "    .dataframe thead th {\n",
              "        text-align: right;\n",
              "    }\n",
              "</style>\n",
              "<table border=\"1\" class=\"dataframe\">\n",
              "  <thead>\n",
              "    <tr style=\"text-align: right;\">\n",
              "      <th></th>\n",
              "      <th>text</th>\n",
              "    </tr>\n",
              "  </thead>\n",
              "  <tbody>\n",
              "    <tr>\n",
              "      <th>0</th>\n",
              "      <td>esto es algo que alguien del entorno de  debe ...</td>\n",
              "    </tr>\n",
              "    <tr>\n",
              "      <th>1</th>\n",
              "      <td>sres generales\\naunque sigue siendo responsabl...</td>\n",
              "    </tr>\n",
              "    <tr>\n",
              "      <th>2</th>\n",
              "      <td>dina boluarte aceptó su rol constitucional com...</td>\n",
              "    </tr>\n",
              "    <tr>\n",
              "      <th>3</th>\n",
              "      <td>lo mismo tiene que hacer perú  estamos h...</td>\n",
              "    </tr>\n",
              "    <tr>\n",
              "      <th>4</th>\n",
              "      <td>dina azecin el pueblo te repudia</td>\n",
              "    </tr>\n",
              "    <tr>\n",
              "      <th>...</th>\n",
              "      <td>...</td>\n",
              "    </tr>\n",
              "    <tr>\n",
              "      <th>8269</th>\n",
              "      <td>todo lo hacen mal en vez de aclarar peor la ...</td>\n",
              "    </tr>\n",
              "    <tr>\n",
              "      <th>8270</th>\n",
              "      <td>escriban bien \\ndejen de lado las ideologías ...</td>\n",
              "    </tr>\n",
              "    <tr>\n",
              "      <th>8271</th>\n",
              "      <td>es su responsabilidad</td>\n",
              "    </tr>\n",
              "    <tr>\n",
              "      <th>8272</th>\n",
              "      <td>cual presidenta una asesina ilegal golpist...</td>\n",
              "    </tr>\n",
              "    <tr>\n",
              "      <th>8273</th>\n",
              "      <td>pobre mujer se tiene que inventar su propia ...</td>\n",
              "    </tr>\n",
              "  </tbody>\n",
              "</table>\n",
              "<p>8274 rows × 1 columns</p>\n",
              "</div>\n",
              "      <button class=\"colab-df-convert\" onclick=\"convertToInteractive('df-e3919f38-bbf2-432d-a723-880a80ad2887')\"\n",
              "              title=\"Convert this dataframe to an interactive table.\"\n",
              "              style=\"display:none;\">\n",
              "        \n",
              "  <svg xmlns=\"http://www.w3.org/2000/svg\" height=\"24px\"viewBox=\"0 0 24 24\"\n",
              "       width=\"24px\">\n",
              "    <path d=\"M0 0h24v24H0V0z\" fill=\"none\"/>\n",
              "    <path d=\"M18.56 5.44l.94 2.06.94-2.06 2.06-.94-2.06-.94-.94-2.06-.94 2.06-2.06.94zm-11 1L8.5 8.5l.94-2.06 2.06-.94-2.06-.94L8.5 2.5l-.94 2.06-2.06.94zm10 10l.94 2.06.94-2.06 2.06-.94-2.06-.94-.94-2.06-.94 2.06-2.06.94z\"/><path d=\"M17.41 7.96l-1.37-1.37c-.4-.4-.92-.59-1.43-.59-.52 0-1.04.2-1.43.59L10.3 9.45l-7.72 7.72c-.78.78-.78 2.05 0 2.83L4 21.41c.39.39.9.59 1.41.59.51 0 1.02-.2 1.41-.59l7.78-7.78 2.81-2.81c.8-.78.8-2.07 0-2.86zM5.41 20L4 18.59l7.72-7.72 1.47 1.35L5.41 20z\"/>\n",
              "  </svg>\n",
              "      </button>\n",
              "      \n",
              "  <style>\n",
              "    .colab-df-container {\n",
              "      display:flex;\n",
              "      flex-wrap:wrap;\n",
              "      gap: 12px;\n",
              "    }\n",
              "\n",
              "    .colab-df-convert {\n",
              "      background-color: #E8F0FE;\n",
              "      border: none;\n",
              "      border-radius: 50%;\n",
              "      cursor: pointer;\n",
              "      display: none;\n",
              "      fill: #1967D2;\n",
              "      height: 32px;\n",
              "      padding: 0 0 0 0;\n",
              "      width: 32px;\n",
              "    }\n",
              "\n",
              "    .colab-df-convert:hover {\n",
              "      background-color: #E2EBFA;\n",
              "      box-shadow: 0px 1px 2px rgba(60, 64, 67, 0.3), 0px 1px 3px 1px rgba(60, 64, 67, 0.15);\n",
              "      fill: #174EA6;\n",
              "    }\n",
              "\n",
              "    [theme=dark] .colab-df-convert {\n",
              "      background-color: #3B4455;\n",
              "      fill: #D2E3FC;\n",
              "    }\n",
              "\n",
              "    [theme=dark] .colab-df-convert:hover {\n",
              "      background-color: #434B5C;\n",
              "      box-shadow: 0px 1px 3px 1px rgba(0, 0, 0, 0.15);\n",
              "      filter: drop-shadow(0px 1px 2px rgba(0, 0, 0, 0.3));\n",
              "      fill: #FFFFFF;\n",
              "    }\n",
              "  </style>\n",
              "\n",
              "      <script>\n",
              "        const buttonEl =\n",
              "          document.querySelector('#df-e3919f38-bbf2-432d-a723-880a80ad2887 button.colab-df-convert');\n",
              "        buttonEl.style.display =\n",
              "          google.colab.kernel.accessAllowed ? 'block' : 'none';\n",
              "\n",
              "        async function convertToInteractive(key) {\n",
              "          const element = document.querySelector('#df-e3919f38-bbf2-432d-a723-880a80ad2887');\n",
              "          const dataTable =\n",
              "            await google.colab.kernel.invokeFunction('convertToInteractive',\n",
              "                                                     [key], {});\n",
              "          if (!dataTable) return;\n",
              "\n",
              "          const docLinkHtml = 'Like what you see? Visit the ' +\n",
              "            '<a target=\"_blank\" href=https://colab.research.google.com/notebooks/data_table.ipynb>data table notebook</a>'\n",
              "            + ' to learn more about interactive tables.';\n",
              "          element.innerHTML = '';\n",
              "          dataTable['output_type'] = 'display_data';\n",
              "          await google.colab.output.renderOutput(dataTable, element);\n",
              "          const docLink = document.createElement('div');\n",
              "          docLink.innerHTML = docLinkHtml;\n",
              "          element.appendChild(docLink);\n",
              "        }\n",
              "      </script>\n",
              "    </div>\n",
              "  </div>\n",
              "  "
            ]
          },
          "metadata": {},
          "execution_count": 16
        }
      ]
    },
    {
      "cell_type": "markdown",
      "source": [
        "# **Sentiment analysis with BETO**\n",
        "\n"
      ],
      "metadata": {
        "id": "pue9xIzXEnBi"
      }
    },
    {
      "cell_type": "code",
      "source": [
        "text_list = data['text'].tolist()"
      ],
      "metadata": {
        "id": "bzf-7rChZHh5"
      },
      "execution_count": null,
      "outputs": []
    },
    {
      "cell_type": "code",
      "source": [
        "specific_model = pipeline(model=\"finiteautomata/beto-sentiment-analysis\")"
      ],
      "metadata": {
        "id": "8oRJLplzXJ2A"
      },
      "execution_count": null,
      "outputs": []
    },
    {
      "cell_type": "code",
      "source": [
        "text_results = specific_model(text_list)"
      ],
      "metadata": {
        "id": "jN8cwqfAZprX"
      },
      "execution_count": null,
      "outputs": []
    },
    {
      "cell_type": "markdown",
      "source": [
        "# **Match the texts with their polarity**"
      ],
      "metadata": {
        "id": "ecoITyNiT1YW"
      }
    },
    {
      "cell_type": "code",
      "source": [
        "polarity = pd.DataFrame(text_results)"
      ],
      "metadata": {
        "id": "QEbPQD14IVZ-"
      },
      "execution_count": null,
      "outputs": []
    },
    {
      "cell_type": "code",
      "source": [
        "data = data.join(polarity)"
      ],
      "metadata": {
        "id": "48C5RaTyIYS3"
      },
      "execution_count": null,
      "outputs": []
    },
    {
      "cell_type": "code",
      "source": [
        "def create_column_target(data):\n",
        "    mapping = {'NEU': 0, 'NEG': -1, 'POS': 1}\n",
        "    data['target'] = data['label'].map(mapping)\n",
        "    return data\n",
        "\n",
        "data = create_column_target(data)"
      ],
      "metadata": {
        "id": "Vu86hkdUNqdu"
      },
      "execution_count": null,
      "outputs": []
    },
    {
      "cell_type": "markdown",
      "source": [
        "# **Visualize results**"
      ],
      "metadata": {
        "id": "MQJr2Qe0TJi9"
      }
    },
    {
      "cell_type": "code",
      "source": [
        "data"
      ],
      "metadata": {
        "colab": {
          "base_uri": "https://localhost:8080/",
          "height": 423
        },
        "id": "2GRxDVGwN4me",
        "outputId": "860f7369-2b82-46c3-c4cc-a802d7233d2e"
      },
      "execution_count": null,
      "outputs": [
        {
          "output_type": "execute_result",
          "data": {
            "text/plain": [
              "                                                   text label     score  \\\n",
              "0     esto es algo que alguien del entorno de  debe ...   NEU  0.997858   \n",
              "1     sres generales\\naunque sigue siendo responsabl...   NEG  0.997398   \n",
              "2     dina boluarte aceptó su rol constitucional com...   NEG  0.697887   \n",
              "3           lo mismo tiene que hacer perú  estamos h...   NEG  0.999382   \n",
              "4                      dina azecin el pueblo te repudia   NEG  0.998384   \n",
              "...                                                 ...   ...       ...   \n",
              "8269    todo lo hacen mal en vez de aclarar peor la ...   NEG  0.998387   \n",
              "8270   escriban bien \\ndejen de lado las ideologías ...   NEU  0.996290   \n",
              "8271                              es su responsabilidad   NEU  0.886995   \n",
              "8272      cual presidenta una asesina ilegal golpist...   NEG  0.994300   \n",
              "8273    pobre mujer se tiene que inventar su propia ...   NEG  0.999149   \n",
              "\n",
              "      target  \n",
              "0          0  \n",
              "1         -1  \n",
              "2         -1  \n",
              "3         -1  \n",
              "4         -1  \n",
              "...      ...  \n",
              "8269      -1  \n",
              "8270       0  \n",
              "8271       0  \n",
              "8272      -1  \n",
              "8273      -1  \n",
              "\n",
              "[8274 rows x 4 columns]"
            ],
            "text/html": [
              "\n",
              "  <div id=\"df-3dee862e-2561-45c6-abe4-e7e701148c3a\">\n",
              "    <div class=\"colab-df-container\">\n",
              "      <div>\n",
              "<style scoped>\n",
              "    .dataframe tbody tr th:only-of-type {\n",
              "        vertical-align: middle;\n",
              "    }\n",
              "\n",
              "    .dataframe tbody tr th {\n",
              "        vertical-align: top;\n",
              "    }\n",
              "\n",
              "    .dataframe thead th {\n",
              "        text-align: right;\n",
              "    }\n",
              "</style>\n",
              "<table border=\"1\" class=\"dataframe\">\n",
              "  <thead>\n",
              "    <tr style=\"text-align: right;\">\n",
              "      <th></th>\n",
              "      <th>text</th>\n",
              "      <th>label</th>\n",
              "      <th>score</th>\n",
              "      <th>target</th>\n",
              "    </tr>\n",
              "  </thead>\n",
              "  <tbody>\n",
              "    <tr>\n",
              "      <th>0</th>\n",
              "      <td>esto es algo que alguien del entorno de  debe ...</td>\n",
              "      <td>NEU</td>\n",
              "      <td>0.997858</td>\n",
              "      <td>0</td>\n",
              "    </tr>\n",
              "    <tr>\n",
              "      <th>1</th>\n",
              "      <td>sres generales\\naunque sigue siendo responsabl...</td>\n",
              "      <td>NEG</td>\n",
              "      <td>0.997398</td>\n",
              "      <td>-1</td>\n",
              "    </tr>\n",
              "    <tr>\n",
              "      <th>2</th>\n",
              "      <td>dina boluarte aceptó su rol constitucional com...</td>\n",
              "      <td>NEG</td>\n",
              "      <td>0.697887</td>\n",
              "      <td>-1</td>\n",
              "    </tr>\n",
              "    <tr>\n",
              "      <th>3</th>\n",
              "      <td>lo mismo tiene que hacer perú  estamos h...</td>\n",
              "      <td>NEG</td>\n",
              "      <td>0.999382</td>\n",
              "      <td>-1</td>\n",
              "    </tr>\n",
              "    <tr>\n",
              "      <th>4</th>\n",
              "      <td>dina azecin el pueblo te repudia</td>\n",
              "      <td>NEG</td>\n",
              "      <td>0.998384</td>\n",
              "      <td>-1</td>\n",
              "    </tr>\n",
              "    <tr>\n",
              "      <th>...</th>\n",
              "      <td>...</td>\n",
              "      <td>...</td>\n",
              "      <td>...</td>\n",
              "      <td>...</td>\n",
              "    </tr>\n",
              "    <tr>\n",
              "      <th>8269</th>\n",
              "      <td>todo lo hacen mal en vez de aclarar peor la ...</td>\n",
              "      <td>NEG</td>\n",
              "      <td>0.998387</td>\n",
              "      <td>-1</td>\n",
              "    </tr>\n",
              "    <tr>\n",
              "      <th>8270</th>\n",
              "      <td>escriban bien \\ndejen de lado las ideologías ...</td>\n",
              "      <td>NEU</td>\n",
              "      <td>0.996290</td>\n",
              "      <td>0</td>\n",
              "    </tr>\n",
              "    <tr>\n",
              "      <th>8271</th>\n",
              "      <td>es su responsabilidad</td>\n",
              "      <td>NEU</td>\n",
              "      <td>0.886995</td>\n",
              "      <td>0</td>\n",
              "    </tr>\n",
              "    <tr>\n",
              "      <th>8272</th>\n",
              "      <td>cual presidenta una asesina ilegal golpist...</td>\n",
              "      <td>NEG</td>\n",
              "      <td>0.994300</td>\n",
              "      <td>-1</td>\n",
              "    </tr>\n",
              "    <tr>\n",
              "      <th>8273</th>\n",
              "      <td>pobre mujer se tiene que inventar su propia ...</td>\n",
              "      <td>NEG</td>\n",
              "      <td>0.999149</td>\n",
              "      <td>-1</td>\n",
              "    </tr>\n",
              "  </tbody>\n",
              "</table>\n",
              "<p>8274 rows × 4 columns</p>\n",
              "</div>\n",
              "      <button class=\"colab-df-convert\" onclick=\"convertToInteractive('df-3dee862e-2561-45c6-abe4-e7e701148c3a')\"\n",
              "              title=\"Convert this dataframe to an interactive table.\"\n",
              "              style=\"display:none;\">\n",
              "        \n",
              "  <svg xmlns=\"http://www.w3.org/2000/svg\" height=\"24px\"viewBox=\"0 0 24 24\"\n",
              "       width=\"24px\">\n",
              "    <path d=\"M0 0h24v24H0V0z\" fill=\"none\"/>\n",
              "    <path d=\"M18.56 5.44l.94 2.06.94-2.06 2.06-.94-2.06-.94-.94-2.06-.94 2.06-2.06.94zm-11 1L8.5 8.5l.94-2.06 2.06-.94-2.06-.94L8.5 2.5l-.94 2.06-2.06.94zm10 10l.94 2.06.94-2.06 2.06-.94-2.06-.94-.94-2.06-.94 2.06-2.06.94z\"/><path d=\"M17.41 7.96l-1.37-1.37c-.4-.4-.92-.59-1.43-.59-.52 0-1.04.2-1.43.59L10.3 9.45l-7.72 7.72c-.78.78-.78 2.05 0 2.83L4 21.41c.39.39.9.59 1.41.59.51 0 1.02-.2 1.41-.59l7.78-7.78 2.81-2.81c.8-.78.8-2.07 0-2.86zM5.41 20L4 18.59l7.72-7.72 1.47 1.35L5.41 20z\"/>\n",
              "  </svg>\n",
              "      </button>\n",
              "      \n",
              "  <style>\n",
              "    .colab-df-container {\n",
              "      display:flex;\n",
              "      flex-wrap:wrap;\n",
              "      gap: 12px;\n",
              "    }\n",
              "\n",
              "    .colab-df-convert {\n",
              "      background-color: #E8F0FE;\n",
              "      border: none;\n",
              "      border-radius: 50%;\n",
              "      cursor: pointer;\n",
              "      display: none;\n",
              "      fill: #1967D2;\n",
              "      height: 32px;\n",
              "      padding: 0 0 0 0;\n",
              "      width: 32px;\n",
              "    }\n",
              "\n",
              "    .colab-df-convert:hover {\n",
              "      background-color: #E2EBFA;\n",
              "      box-shadow: 0px 1px 2px rgba(60, 64, 67, 0.3), 0px 1px 3px 1px rgba(60, 64, 67, 0.15);\n",
              "      fill: #174EA6;\n",
              "    }\n",
              "\n",
              "    [theme=dark] .colab-df-convert {\n",
              "      background-color: #3B4455;\n",
              "      fill: #D2E3FC;\n",
              "    }\n",
              "\n",
              "    [theme=dark] .colab-df-convert:hover {\n",
              "      background-color: #434B5C;\n",
              "      box-shadow: 0px 1px 3px 1px rgba(0, 0, 0, 0.15);\n",
              "      filter: drop-shadow(0px 1px 2px rgba(0, 0, 0, 0.3));\n",
              "      fill: #FFFFFF;\n",
              "    }\n",
              "  </style>\n",
              "\n",
              "      <script>\n",
              "        const buttonEl =\n",
              "          document.querySelector('#df-3dee862e-2561-45c6-abe4-e7e701148c3a button.colab-df-convert');\n",
              "        buttonEl.style.display =\n",
              "          google.colab.kernel.accessAllowed ? 'block' : 'none';\n",
              "\n",
              "        async function convertToInteractive(key) {\n",
              "          const element = document.querySelector('#df-3dee862e-2561-45c6-abe4-e7e701148c3a');\n",
              "          const dataTable =\n",
              "            await google.colab.kernel.invokeFunction('convertToInteractive',\n",
              "                                                     [key], {});\n",
              "          if (!dataTable) return;\n",
              "\n",
              "          const docLinkHtml = 'Like what you see? Visit the ' +\n",
              "            '<a target=\"_blank\" href=https://colab.research.google.com/notebooks/data_table.ipynb>data table notebook</a>'\n",
              "            + ' to learn more about interactive tables.';\n",
              "          element.innerHTML = '';\n",
              "          dataTable['output_type'] = 'display_data';\n",
              "          await google.colab.output.renderOutput(dataTable, element);\n",
              "          const docLink = document.createElement('div');\n",
              "          docLink.innerHTML = docLinkHtml;\n",
              "          element.appendChild(docLink);\n",
              "        }\n",
              "      </script>\n",
              "    </div>\n",
              "  </div>\n",
              "  "
            ]
          },
          "metadata": {},
          "execution_count": 23
        }
      ]
    },
    {
      "cell_type": "markdown",
      "source": [
        "# **Download results**"
      ],
      "metadata": {
        "id": "1duy39biTP53"
      }
    },
    {
      "cell_type": "code",
      "source": [
        "as_beto = pd.DataFrame(data)"
      ],
      "metadata": {
        "id": "1E4WYscIPjHe"
      },
      "execution_count": null,
      "outputs": []
    },
    {
      "cell_type": "code",
      "source": [
        "as_beto.to_excel(\"as_beto.xlsx\", index=False)"
      ],
      "metadata": {
        "id": "K3jHE0FgPvCu"
      },
      "execution_count": null,
      "outputs": []
    }
  ]
}